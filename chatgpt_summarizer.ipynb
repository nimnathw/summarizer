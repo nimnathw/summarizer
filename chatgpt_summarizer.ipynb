{
 "cells": [
  {
   "cell_type": "code",
   "execution_count": null,
   "metadata": {},
   "outputs": [],
   "source": [
    "from dotenv import load_dotenv\n",
    "import os\n",
    "import openai\n",
    "import json\n",
    "import pandas as pd\n",
    "# Load environment variables from .env file\n",
    "load_dotenv()\n",
    "\n",
    "# Set OpenAI API key\n",
    "openai.api_key = os.getenv(\"OPENAI_API_KEY\")\n",
    "\n"
   ]
  },
  {
   "cell_type": "code",
   "execution_count": null,
   "metadata": {},
   "outputs": [],
   "source": [
    "model = \"gpt-3.5-turbo\"\n",
    "\n",
    "def get_summary(text, model=model, chatgpt_role=\"You are a helpful assitant.\"):\n",
    "    messages=[\n",
    "        {\"role\": \"system\", \"content\": chatgpt_role},\n",
    "        {\"role\": \"user\", \"content\": \"Can you summarize this\".join(text)}\n",
    "    ]\n",
    "    openai_object = openai.ChatCompletion.create(model=model, messages=messages)\n",
    "    # Serialize the dictionary to JSON\n",
    "    json_str = json.dumps(openai_object)\n",
    "    json_data = json.loads(json_str)\n",
    "    #print(json_data)\n",
    "    df = pd.json_normalize(json_data, record_path=['choices'])\n",
    "    answer = df.loc[0, 'message.content']\n",
    "    return answer\n",
    "\n",
    "print(get_summary(\"CHAPTER 1 Economics: The Study of Choice START UP: ECONOMICS IN THE NEWS 2008 seemed tobetheyear ofeconomic news. From theworst ﬁnancial crisis since theGreat Depression tothe possibility ofaglobal recession, togyrating gasoline and food prices, and toplunging housing prices, economic questions were the primary factors in the presidential campaign of 2008 and dominated the news generally. What causes theprices ofsome good torisewhile theprices ofsome other goods fall? Price determination is one ofthethings that wewillstudy inthis book. Wewillalso consider factors that lead aneconomy tofallinto are- cession—and the attempts to limit it. While the investigation ofthese problems surely falls within the province ofeconomics, economics encom- passes afarbroader range ofissues.\"))"
   ]
  },
  {
   "cell_type": "code",
   "execution_count": null,
   "metadata": {},
   "outputs": [],
   "source": [
    "import os\n",
    "import openai\n",
    "\n",
    "folder_path = \"output\" # replace with the path to your folder\n",
    "\n",
    "for filename in os.listdir(folder_path):\n",
    "    filepath = os.path.join(folder_path, filename)\n",
    "    if os.path.isfile(filepath):\n",
    "        with open(filepath, 'r') as f:\n",
    "            content = f.read()\n",
    "            print(get_summary(content))\n",
    "            \n"
   ]
  }
 ],
 "metadata": {
  "kernelspec": {
   "display_name": "Python (myenv)",
   "language": "python",
   "name": "myenv"
  },
  "language_info": {
   "codemirror_mode": {
    "name": "ipython",
    "version": 3
   },
   "file_extension": ".py",
   "mimetype": "text/x-python",
   "name": "python",
   "nbconvert_exporter": "python",
   "pygments_lexer": "ipython3",
   "version": "3.10.6"
  },
  "orig_nbformat": 4
 },
 "nbformat": 4,
 "nbformat_minor": 2
}
